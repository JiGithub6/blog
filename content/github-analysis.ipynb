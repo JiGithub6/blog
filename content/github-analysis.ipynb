{
 "cells": [
  {
   "cell_type": "markdown",
   "metadata": {},
   "source": [
    "Let's install a bunch of stuff. You'll need a virtual environment activated, or be running as root, otherwise your system will yell at you."
   ]
  },
  {
   "cell_type": "code",
   "execution_count": null,
   "metadata": {},
   "outputs": [],
   "source": [
    "!pip install requests networkx matplotlib;"
   ]
  },
  {
   "cell_type": "markdown",
   "metadata": {},
   "source": [
    "Cool, now let's import a bunch of stuff, and tell matplotlib that we want to see the graphs."
   ]
  },
  {
   "cell_type": "code",
   "execution_count": null,
   "metadata": {},
   "outputs": [],
   "source": [
    "import os\n",
    "import json\n",
    "\n",
    "\n",
    "import requests\n",
    "import networkx as nx\n",
    "import matplotlib.pyplot as plt\n",
    "%matplotlib inline"
   ]
  },
  {
   "cell_type": "markdown",
   "metadata": {},
   "source": [
    "Let's try and find the community following my Github.\n",
    "We'll need the `requests` library."
   ]
  },
  {
   "cell_type": "code",
   "execution_count": null,
   "metadata": {},
   "outputs": [],
   "source": [
    "github_graphql_url = 'https://api.github.com/graphql'\n",
    "\n",
    "# I'm using envirnomental variables so I can distribute this without leaking my token\n",
    "# a normal string will do\n",
    "oauth_token = os.getenv('GITHUB_OAUTH_TOKEN')\n",
    "\n",
    "# format strings in python 3.6+ are pretty neat\n",
    "headers={'Authorization': f'bearer {oauth_token}'}"
   ]
  },
  {
   "cell_type": "code",
   "execution_count": null,
   "metadata": {},
   "outputs": [],
   "source": [
    "query = '''\n",
    "viewer {\n",
    "  login\n",
    "  followers (first: 100)\n",
    "  {\n",
    "    pageInfo {\n",
    "      hasNextPage\n",
    "      endCursor\n",
    "    }\n",
    "    nodes {\n",
    "      login\n",
    "      following (first: 100) {\n",
    "        pageInfo {\n",
    "          hasNextPage\n",
    "          endCursor\n",
    "        }\n",
    "        edges {\n",
    "          node {\n",
    "            login\n",
    "          }\n",
    "        }\n",
    "      }\n",
    "    }\n",
    "  }  \n",
    "}\n",
    "'''"
   ]
  },
  {
   "cell_type": "code",
   "execution_count": null,
   "metadata": {},
   "outputs": [],
   "source": [
    "def get_data(query):\n",
    "    r = requests.post(url, data=json.dumps({'query': query}), headers=headers)\n",
    "    print(r.json())\n",
    "    return r.json()['data']\n",
    "\n",
    "# TODO: add cursor logic\n",
    "def get_follower_and_login_data(cursor=None):\n",
    "    data = get_data(query)\n",
    "    user_login_name = data['viewer']['login']\n",
    "    my_follower_data = data_request_dict['viewer']['followers']\n",
    "    return my_follower_data, user_login_name"
   ]
  },
  {
   "cell_type": "code",
   "execution_count": null,
   "metadata": {},
   "outputs": [],
   "source": [
    "my_follower_data, user_login_name = get_follower_and_login_data()"
   ]
  },
  {
   "cell_type": "markdown",
   "metadata": {},
   "source": [
    "Define a few helper functions to deal with our deeply nested dictionaries"
   ]
  },
  {
   "cell_type": "code",
   "execution_count": null,
   "metadata": {},
   "outputs": [],
   "source": [
    "def get_followers_and_next_page(my_follower_data: dict) -> (list, bool):\n",
    "    # who is following me?\n",
    "    my_followers = my_follower_data['nodes']\n",
    "    my_followers = [x['login'] for x in my_followers]\n",
    "    # do I have more than one page of followers?\n",
    "    has_next_page = my_follower_data['pageInfo']['hasNextPage']\n",
    "    # what is the cursor string that for use in the next query?\n",
    "    cursor = my_follower_data['pageInfo']['endCursor']\n",
    "    \n",
    "    return my_followers, has_next_page, cursor\n",
    "\n",
    "def get_first_layer_followers_and_next_page(a_follower: dict) -> (list, bool):\n",
    "    # Who is this user following?\n",
    "    following = a_follower['following']['edges']\n",
    "    following = [x['node']['login'] for x in following]\n",
    "    # Is there a next page?\n",
    "    has_next_page = following['pageInfo']['hasNextPage']\n",
    "    # what is the cursor string that for use in the next query?\n",
    "    cursor = my_follower_data['pageInfo']['endCursor']\n",
    "    \n",
    "    return following, has_next_page, cursor"
   ]
  },
  {
   "cell_type": "code",
   "execution_count": null,
   "metadata": {},
   "outputs": [],
   "source": [
    "# setup our graph stuff\n",
    "graph = nx.Graph()\n",
    "graph.add_node(user_login_name)"
   ]
  },
  {
   "cell_type": "code",
   "execution_count": null,
   "metadata": {},
   "outputs": [],
   "source": [
    "has_next_page = True\n",
    "on_last_page = False\n",
    "followers_with_many_following = {}\n",
    "\n",
    "while has_next_page or not on_last_page:\n",
    "    my_followers, has_next_page, cursor = get_followers_and_next_page(my_follower_data)\n",
    "\n",
    "    # Add all of my followers to the graph, and capture the connection\n",
    "    for follower in my_followers:\n",
    "        graph.add_node(follower)\n",
    "        graph.add_edge(follower, user_login_name)\n",
    "\n",
    "    for follower in my_followers:\n",
    "        first_layer, first_layer_has_next_page, first_layer_cursor = get_first_layer_followers_and_next_page(follower)\n",
    "        for login in first_layer:\n",
    "            graph.add_node(login)\n",
    "            graph.add_edge(follower, login)\n",
    "        if has_next_page:\n",
    "            followers_with_many_following[login] = first_layer_cursor\n",
    "            \n",
    "    # Loop maintainence\n",
    "    if has_next_page == False:\n",
    "        on_last_page = True\n",
    "    else:\n",
    "        my_follower_data, _ = get_follower_and_login_data(cursor)\n",
    "        \n",
    "while followers_with_many_following:\n",
    "    keys = tuple(followers_with_many_following.keys())\n",
    "    for key in keys:\n",
    "        cursor = followers_with_many_following[key]\n",
    "        data = get_data(user_query.format(login=key, cursor=cursor))\n",
    "    followers_with_many_following.pop(key)"
   ]
  },
  {
   "cell_type": "code",
   "execution_count": null,
   "metadata": {},
   "outputs": [],
   "source": [
    "user_query =\n",
    "'''\n",
    "repositoryOwner(login: \"{login\"){\n",
    "  ... on User {\n",
    "    following(first: 100 after: {cursor}) {\n",
    "      totalCount\n",
    "      pageInfo {\n",
    "        endCursor\n",
    "        hasNextPage\n",
    "      }\n",
    "      edges {\n",
    "        node {\n",
    "          login\n",
    "        }\n",
    "      }\n",
    "    }\n",
    "  }\n",
    "}\n",
    "'''"
   ]
  },
  {
   "cell_type": "code",
   "execution_count": null,
   "metadata": {},
   "outputs": [],
   "source": []
  },
  {
   "cell_type": "code",
   "execution_count": null,
   "metadata": {},
   "outputs": [],
   "source": [
    "nx.draw_spectral(graph)\n",
    "plt.show() "
   ]
  }
 ],
 "metadata": {
  "language_info": {
   "name": "python",
   "pygments_lexer": "ipython3"
  }
 },
 "nbformat": 4,
 "nbformat_minor": 2
}
